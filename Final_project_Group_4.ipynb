{
 "cells": [
  {
   "cell_type": "markdown",
   "metadata": {},
   "source": [
    "# Title: BART: Denoising Sequence-to-Sequence Pre-training for Natural Language Generation, Translation, and Comprehension\n",
    "\n",
    "#### Group Members' Names: Hina Shafique Awan, Sidda De Silva\n",
    "\n",
    "\n",
    "#### Group Members' Emails: hina.awan@ryerson.ca , ravindra.desilva@ryerson.ca"
   ]
  },
  {
   "cell_type": "markdown",
   "metadata": {},
   "source": [
    "# Introduction:\n",
    "\n",
    "#### Problem Description:\n",
    "\n",
    "Self-supervised models have made significant progress in the field of Natural Language Processing. Masked Language model is the most remarkable approach in self supervised settings. However, these methods are task specific and have limited application. We need a model that can work in a wide range of end tasks. BART is a model which combines both Bidirectional and Auto-Regressive Transformers and pretrains a model. It can ben seen as generalizing many pretraining schemes and achieve noising flexibility.\n",
    "\n",
    "#### Context of the Problem:\n",
    "\n",
    "Emergence of pre-trained models have revolutionised the applications of natural language processing. New developers can now build applications using pre-trained models and experts can acheive better results by fine tuning the models for the downstream tasks. This saves them from the effort of training their models from the begining and focus more on building advanced applications.\n",
    "\n",
    "Pre-trained models can be easily incorporated in new applications as they don't need much-labelled data, making it  adaptable to various business problems; prediction, transfer learning or feature extraction.\n",
    "\n",
    "However, the most pre-trained models do not perform well across different tasks. BART instead is a generalized pre-trained model that has a wider applicability.\n",
    "\n",
    "#### Limitation About other Approaches:\n",
    "\n",
    "#### BERT: \n",
    "Random tokens are replaced with masks, and the document is bidirectionally encoded. BERT does not perform very well on downstream text generation tasks as the masked tokens are predicted independent of each other.\n",
    "\n",
    "#### GPT: \n",
    "Tokens are predicted auto-regressively.  This means that each new prediction uses previously predicted tokens as context. This helps it perform very well on downstream text generation tasks. However, words can only condition on leftward context, so it cannot learn bidirectional interactions.\n",
    "\n",
    "#### Solution:\n",
    "\n",
    "BART combines Bidirectional and Auto-Regressive transformers in order to pre train a model. Noising flexibility is the key advantage of this approach; arbitrary transformations can be applied to the original text, including changing its length. The paper evaluates a number of noising approaches, finding the best performance by both randomly shuffling the order of the original sentences and using a novel in-filling scheme, where arbitrary length spans of text (including zero length) are replaced with a single mask token. This approach generalizes the original word masking and next sentence prediction objectives in BERT by forcing the model to reason more about overall sentence length and make longer range transformations to the input."
   ]
  },
  {
   "cell_type": "markdown",
   "metadata": {},
   "source": [
    "# Background\n",
    "\n",
    "The related work is shown in the following table:\n",
    "\n",
    "| Reference |Explanation |  Dataset/Input |Weakness\n",
    "| --- | --- | --- | --- |\n",
    "| Dong et al. [6] | UniLM is pretrained using three types of language modeling tasks: unidirectional, bidirectional, and sequence-to-sequence prediction for downstream tasks like extractive question answering, long text generation and abstractive summatization, repectively.| CNN/DailyMail dataset and Gigaword for model fine tuning and evaluation | Experimental results demonstrate that the model compares favorably with BERT on the GLUE benchmark and two question answering datasets. In future, the UNIM can be extended to support cross-lingual tasks\n",
    "| Devlin et al. [5] | BERT introduced masked language modelling, which allows pre-training to learn interactions between left and right context words. Predictions are not made auto-regressively which reduces the effectiveness of BERT for generation tasks.| GLUE, MultiNLI, SQUAD v1.1, SQUAD v2.0 | GLUE score is 80.5%, MultiNLI accuracy is 86.7%, F1 score of SQUAD v1.1 is 93.2, F1 score of SQUAD v2.0 is 83.1\n",
    "| Yinhan et al. [2] | RoBERTa is a robustly optimized method built on BERT architecture and modifies key hyperparameters by removing the next-sentence pretraining objective and is trained on much larger dataset.| GLUE and SQuAD | Score of 88.5 on the public GLUE leaderboard\n",
    "| Lewis et al. [4] | BART is a denoising autoencoder built with a sequence-to-sequence model that is applicable in several ways for the target applications.| SQUAD for question answering, MNLI for classification, XSum for news summarization, ConvAI2 for dialogue response, ELI5 dataset for abstrative QA, CNN/Daily Mail data set for summarization | Text infilling shows strong performance.\n",
    "\n"
   ]
  },
  {
   "cell_type": "markdown",
   "metadata": {},
   "source": [
    "# Methodology\n",
    "\n",
    "In order to understand the architecture of BART, we first need to percieve the nature of the NLP tasks it aims to deal with. In text summarization and question answering tasks it is essential for our model to read the whole text and perceive each token in the context of what came before and after it. For example, if we want to traing a masked language model with the sentence “the man went to the dairy store to buy a gallon of milk”, we can use the following sentence as an input: \n",
    "\n",
    "“the man went to the [MASK] store to buy a gallon of milk”.\n",
    "\n",
    "For NLU problem like this, it is important to completely read the sentence before predicting the [Mask] as it is highly dependent on the words \"milk\" and \"store\". The bi-directional approaches to read and represent a text can properly interpret input sequences in these cases. BERT (Devlin et al., 2019) introduced masked language\n",
    "modelling, allowing pre-training to learn interactions between left and right context words, hence improving the task of language modeling.\n",
    "\n",
    "BART uses the bi-directional encoder of BERT to find the best representation of its input sequence. The BERT encoder produces an embedding vector of each token of its input text sequence and an extra vector of sentence level information. This helps the decoder learn token and sentence level tasks which helps in fine-tuning of future tasks.\n",
    "\n",
    "The masked sequences are used in the pre-training process as shown below. While simple token masking technique is used in pre training the BERT model, BART utilizes more challenging masking procedure in its pre-training.\n",
    "\n",
    "![Alternate text ](encoder.webp \"Title of the figure, location is simply the directory of the notebook\")\n",
    "\n",
    "A decoder is needed, after getting the representations of input text sequence, to map these with the target output. However, if the decoder is designed in a similar way, it can perform poorly on next sentence prediction and token prediction tasks as it depends on more diverse input.\n",
    "\n",
    "In such cases, a model architecture is needed that can be trained on producing the next word by only examining preceding words in the sequence. Hence, an autoregressive model is useful as it only looks at the past data to predict the future. \n",
    "\n",
    "Below image shows how the autoregressive decoder processes its input.\n",
    "\n",
    "![Alternate text ](auto-decoder.webp \"Title of the figure, location is simply the directory of the notebook\")\n",
    "\n",
    "BART attaches the bi-directional encoder to the autoregressive decoder to create a denoising auto-encoder architecture. Based on these two components, the final BART model would look something like this:\n",
    "\n",
    "![Alternate text ](bart-arch-main.webp \"Title of the figure, location is simply the directory of the notebook\")\n",
    "\n",
    "In the above figure, the input sequence is a masked (or noisy) version of [ABCDE] transformed into [A[MASK]B[MASK]E]. The encoder examins the whole sequence and learns high-dimensional representations with bi-directional information. The autoregressive decoder takes these thought vectors and predicts the next token based on the encoder input and the output tokens predicted so far. Learning occurs by computing and optimizing the negative log-likelihood as mapped with the target [ABCDE]. With the help of BART, we can properly understand the inputs and generate new outputs.\n",
    "\n",
    "For example, in the case of text summarization\n",
    "\n",
    "![Alternate text ](bart-arch1.jpeg \"Title of the figure, location is simply the directory of the notebook\")\n",
    "\n",
    "In a classic transformer architecture, BART is an essential component. \n",
    "![Alternate text ](transformer.webp \"Title of the figure, location is simply the directory of the notebook\")\n",
    "\n",
    "## BART vs Traditional tranformer\n",
    "The BART system is built on a typical sequence-to-sequence transformer. Both sections of the Transformer architecture are used in sequence-to-sequence models.\n",
    "The encoder's attention layers can access all of the words in the original phrase at each step, but the decoder's attention layers can only access the words positioned before a particular word in the input.ReLU activation functions are used in traditional Sequence-to-Sequence models, although BART employs GeLUs. In the most recent Transformers, the GeLU activation function was employed in Google's BERT and OpenAI's GPT-2. \n",
    "![Alternate text ](gelu_equation.png \"Title of the figure, location is simply the directory of the notebook\")\n",
    "![Alternate text ](gelu.png \"Title of the figure, location is simply the directory of the notebook\")\n",
    "\n",
    "Then why is it considered as a performant model for multiple downstream tasks? BART borrows pre-training ideas from BERT and adds more pre-training objectives to generalize the model\n",
    "\n",
    "## Pretraining objectives/tasks\n",
    "BART takes a semi-supervised approach to learning. First, the model is pre-trained on tokens “t” looking back to “k” tokens in the past to compute the current token. This is done unsupervised on a vast text corpus to allow the model to “learn the language.”\n",
    "\n",
    "While the model architecture is straightforward, the work's main contribution is a thorough examination of the numerous pretraining activities. While many other papers were about “oh we used this pretraining task along with others and got better performance! WOW”, this paper is more about “from all those many pretraining tasks, which are really helpful and effective?”\n",
    "\n",
    "The goal of the pretraining exercises is to recover from document corruption. There are five different sorts of \"noising\" methods employed. The model will learn to generalize by using multiple tasks.\n",
    "\n",
    "![Alternate text ](masking.png \"Title of the figure, location is simply the directory of the notebook\")\n",
    "\n",
    "### Token masking\n",
    "Follows BERT where some tokens are masked, and the model needs to predict the masked token.\n",
    "\n",
    "###  Token deletion\n",
    "Delete token and make the model to restore deleted token at the right position.\n",
    "\n",
    "### Text infilling\n",
    "Multiple words are selected in a span, and replaced with single MASK token. This will teach model to predict how many tokens are missing.\n",
    "\n",
    "### Sentence permutation\n",
    "Shuffle sentences and make model restore them.\n",
    "\n",
    "### Document rotation\n",
    "Select random token. Change document ordering to start from selected token. Make model predict the start of the original document.\n",
    "\n",
    "## Pretraining experimentation\n",
    "The paper's experiment on pretraining tasks may be stated as follows: \n",
    "\n",
    "- The effectiveness of pretraining approaches varies greatly depending on the task. \n",
    "- The importance of token masking cannot be overstated. \n",
    "- Pretraining from left to right enhances generation. \n",
    "- SQuAD requires bi-directional encoders. \n",
    "- The pre-training goal isn't the only aspect to consider. Architectural considerations such as relative position embeddings, segment-level recurrence, and so on are important. \n",
    "- On the ELI5 downstream task, pure language models perform best. \n",
    "- BART consistently delivers the best results. "
   ]
  },
  {
   "cell_type": "markdown",
   "metadata": {},
   "source": [
    "# Implementation"
   ]
  },
  {
   "cell_type": "markdown",
   "metadata": {},
   "source": [
    "Unlike BERT, which only has an encoder, and GPT, which only has a decoder, Bart has both an encoder and a decoder. "
   ]
  },
  {
   "cell_type": "raw",
   "metadata": {},
   "source": [
    "class BartModel(BartPretrainedModel):\n",
    "    def __init__(self, config: BartConfig):\n",
    "        super().__init__(config)\n",
    "\n",
    "        padding_idx, vocab_size = config.pad_token_id, config.vocab_size\n",
    "        self.shared = nn.Embedding(vocab_size, config.d_model, padding_idx)\n",
    "\n",
    "        self.encoder = BartEncoder(config, self.shared)\n",
    "        self.decoder = BartDecoder(config, self.shared)"
   ]
  },
  {
   "cell_type": "markdown",
   "metadata": {},
   "source": [
    "Bart's encoder and decoder are similar to those found in any transformer model. The distinction is in the manner in which BART has been trained. "
   ]
  },
  {
   "cell_type": "markdown",
   "metadata": {},
   "source": [
    "## Fine tuning\n",
    "\n",
    "BERT, like the other Transformer models described, is trained as a language model.  This implies that BERT is trained on enormous volumes of raw text self-supervised way. Self-supervised learning is a sort of training in which the goal is calculated automatically from the model's inputs. That implies the data doesn't need to be labelled by humans! \n",
    "\n",
    "This sort of model creates a statistical comprehension of the language it was trained on, but it isn't very effective for specific tasks. As a result, the general pretrained model undergoes a process known as transfer learning. The model is fine-tuned in a supervised manner — that is, using human-annotated labels — on a specific task during this process.\n",
    "\n",
    "Predicting the next word in a phrase after reading the previous n words is an example of a task. Because the result is dependent on the past and present inputs but not the future ones, this is referred to as causal language modelling. \n",
    "\n",
    "Masked language modelling is another example, in which the model predicts a masked word in a phrase. \n",
    "\n",
    "Pretraining is the process of training a model from the ground up: the weights are set at random and the training begins with no past information. On the other hand, fine-tuning refers to the training that occurs after a model has been pre-trained. To fine-tune a language model, you must first obtain a pre-trained model, then undertake further training with a dataset unique to your goal. The question arises, Why not just train for the final task straight away? There are several factors at play: \n",
    "\n",
    "- The pretrained model had already been trained on a dataset that resembled the fine-tuning dataset in certain ways. As a result, the fine-tuning procedure might benefit from the knowledge gained by the original model during pretraining.  (In NLP issues, for example, the pretrained model will have some statistical grasp of the language you're working with).\n",
    "- Because the pretrained model has already trained on a large amount of data, fine-tuning takes far less data to achieve acceptable results. As a result, the time and resources required to get good outcomes are significantly reduced.  For example, a science/research-based model may be created by using a pretrained model trained on the English language and then fine-tuning it on an arXiv corpus. \n",
    "- The fine-tuning will only need a little quantity of data: the information obtained by the pretrained model is \"transferred,\" that is why it is named as transfer learning. \n"
   ]
  },
  {
   "cell_type": "markdown",
   "metadata": {},
   "source": [
    "# I have rephrased until here......\n",
    "### Text summarization\n",
    "\n",
    "The input sequence is fed to encoder, while the decoder autoregressively generates output."
   ]
  },
  {
   "cell_type": "code",
   "execution_count": 1,
   "metadata": {},
   "outputs": [
    {
     "ename": "ModuleNotFoundError",
     "evalue": "No module named 'transformers'",
     "output_type": "error",
     "traceback": [
      "\u001b[1;31m---------------------------------------------------------------------------\u001b[0m",
      "\u001b[1;31mModuleNotFoundError\u001b[0m                       Traceback (most recent call last)",
      "\u001b[1;32m<ipython-input-1-21f188b9b9ec>\u001b[0m in \u001b[0;36m<module>\u001b[1;34m\u001b[0m\n\u001b[1;32m----> 1\u001b[1;33m \u001b[1;32mfrom\u001b[0m \u001b[0mtransformers\u001b[0m \u001b[1;32mimport\u001b[0m \u001b[0mBartForConditionalGeneration\u001b[0m\u001b[1;33m,\u001b[0m \u001b[0mBartTokenizer\u001b[0m\u001b[1;33m,\u001b[0m \u001b[0mBartConfig\u001b[0m\u001b[1;33m\u001b[0m\u001b[1;33m\u001b[0m\u001b[0m\n\u001b[0m\u001b[0;32m      2\u001b[0m \u001b[1;32mimport\u001b[0m \u001b[0mwikipedia\u001b[0m\u001b[1;33m\u001b[0m\u001b[1;33m\u001b[0m\u001b[0m\n\u001b[0;32m      3\u001b[0m \u001b[0mwikisearch\u001b[0m \u001b[1;33m=\u001b[0m \u001b[0mwikipedia\u001b[0m\u001b[1;33m.\u001b[0m\u001b[0mpage\u001b[0m\u001b[1;33m(\u001b[0m\u001b[1;34m\"Microsoft\"\u001b[0m\u001b[1;33m)\u001b[0m\u001b[1;33m\u001b[0m\u001b[1;33m\u001b[0m\u001b[0m\n\u001b[0;32m      4\u001b[0m \u001b[0mwikicontent\u001b[0m \u001b[1;33m=\u001b[0m \u001b[0mwikisearch\u001b[0m\u001b[1;33m.\u001b[0m\u001b[0mcontent\u001b[0m\u001b[1;33m\u001b[0m\u001b[1;33m\u001b[0m\u001b[0m\n\u001b[0;32m      5\u001b[0m \u001b[1;33m\u001b[0m\u001b[0m\n",
      "\u001b[1;31mModuleNotFoundError\u001b[0m: No module named 'transformers'"
     ]
    }
   ],
   "source": [
    "from transformers import BartForConditionalGeneration, BartTokenizer, BartConfig\n",
    "import wikipedia\n",
    "wikisearch = wikipedia.page(\"Microsoft\")\n",
    "wikicontent = wikisearch.content\n",
    "\n",
    "# Loading the model and tokenizer for bart-large-cnn\n",
    "tokenizer=BartTokenizer.from_pretrained('facebook/bart-large-cnn')\n",
    "model=BartForConditionalGeneration.from_pretrained('facebook/bart-large-cnn')\n",
    "\n",
    "inputs = tokenizer.batch_encode_plus([wikicontent],return_tensors='pt',truncation=True)\n",
    "summary_ids = model.generate(inputs['input_ids'], early_stopping=True)\n",
    "summary_ids\n",
    "\n",
    "# Decoding and printing the summary\n",
    "bart_summary = tokenizer.decode(summary_ids[0], skip_special_tokens=True)\n",
    "print(bart_summary)"
   ]
  },
  {
   "cell_type": "markdown",
   "metadata": {},
   "source": [
    "## Classification\n",
    "\n",
    "The same input sequence is fed to encoder and decoder.\n",
    "Final hidden state of final decoder token is used for classification."
   ]
  },
  {
   "cell_type": "code",
   "execution_count": null,
   "metadata": {},
   "outputs": [
    {
     "data": {
      "application/vnd.jupyter.widget-view+json": {
       "model_id": "27dbe361bcb6487e9ace8f4abad0bf4f",
       "version_major": 2,
       "version_minor": 0
      },
      "text/plain": [
       "Downloading:   0%|          | 0.00/1.13k [00:00<?, ?B/s]"
      ]
     },
     "metadata": {},
     "output_type": "display_data"
    },
    {
     "data": {
      "application/vnd.jupyter.widget-view+json": {
       "model_id": "ef052b328622420c9518c16bda6ab73b",
       "version_major": 2,
       "version_minor": 0
      },
      "text/plain": [
       "Downloading:   0%|          | 0.00/1.52G [00:00<?, ?B/s]"
      ]
     },
     "metadata": {},
     "output_type": "display_data"
    },
    {
     "data": {
      "application/vnd.jupyter.widget-view+json": {
       "model_id": "54cbdff67ca9440d8d7ead4cf5e65531",
       "version_major": 2,
       "version_minor": 0
      },
      "text/plain": [
       "Downloading:   0%|          | 0.00/26.0 [00:00<?, ?B/s]"
      ]
     },
     "metadata": {},
     "output_type": "display_data"
    },
    {
     "data": {
      "application/vnd.jupyter.widget-view+json": {
       "model_id": "f6e0c43ebb0c4a878f4940bead3f381b",
       "version_major": 2,
       "version_minor": 0
      },
      "text/plain": [
       "Downloading:   0%|          | 0.00/878k [00:00<?, ?B/s]"
      ]
     },
     "metadata": {},
     "output_type": "display_data"
    },
    {
     "data": {
      "application/vnd.jupyter.widget-view+json": {
       "model_id": "ba63fe74767a418c834607c5384bd0ab",
       "version_major": 2,
       "version_minor": 0
      },
      "text/plain": [
       "Downloading:   0%|          | 0.00/446k [00:00<?, ?B/s]"
      ]
     },
     "metadata": {},
     "output_type": "display_data"
    },
    {
     "data": {
      "application/vnd.jupyter.widget-view+json": {
       "model_id": "92885fbf108b4905be2587b2e82ae5ea",
       "version_major": 2,
       "version_minor": 0
      },
      "text/plain": [
       "Downloading:   0%|          | 0.00/1.29M [00:00<?, ?B/s]"
      ]
     },
     "metadata": {},
     "output_type": "display_data"
    },
    {
     "data": {
      "text/plain": [
       "{'sequence': 'one day I will see the world',\n",
       " 'labels': ['travel', 'dancing', 'cooking'],\n",
       " 'scores': [0.9938650727272034, 0.003273805370554328, 0.0028610476292669773]}"
      ]
     },
     "execution_count": 4,
     "metadata": {},
     "output_type": "execute_result"
    }
   ],
   "source": [
    "from transformers import pipeline\n",
    "classifier = pipeline(\"zero-shot-classification\",\n",
    "                      model=\"facebook/bart-large-mnli\")\n",
    "sequence_to_classify = \"one day I will see the world\"\n",
    "candidate_labels = ['travel', 'cooking', 'dancing']\n",
    "classifier(sequence_to_classify, candidate_labels, multi_class=True)"
   ]
  },
  {
   "cell_type": "markdown",
   "metadata": {},
   "source": [
    "## Question and answering"
   ]
  },
  {
   "cell_type": "code",
   "execution_count": null,
   "metadata": {},
   "outputs": [
    {
     "name": "stdout",
     "output_type": "stream",
     "text": [
      " as Amazonia or the Amazon Jungle\n"
     ]
    }
   ],
   "source": [
    "from transformers import BartTokenizer, BartForQuestionAnswering\n",
    "import torch\n",
    "\n",
    "tokenizer = BartTokenizer.from_pretrained('a-ware/bart-squadv2')\n",
    "model = BartForQuestionAnswering.from_pretrained('a-ware/bart-squadv2')\n",
    "\n",
    "question, text = \"Which name is also used to describe the Amazon rainforest in English?\", \"The Amazon rainforest (Portuguese: Floresta Amazônica or Amazônia; Spanish: Selva Amazónica, Amazonía or usually Amazonia; French: Forêt amazonienne; Dutch: Amazoneregenwoud), also known in English as Amazonia or the Amazon Jungle, is a moist broadleaf forest that covers most of the Amazon basin of South America. This basin encompasses 7,000,000 square kilometres (2,700,000 sq mi), of which 5,500,000 square kilometres (2,100,000 sq mi) are covered by the rainforest. This region includes territory belonging to nine nations. The majority of the forest is contained within Brazil, with 60% of the rainforest, followed by Peru with 13%, Colombia with 10%, and with minor amounts in Venezuela, Ecuador, Bolivia, Guyana, Suriname and French Guiana. States or departments in four nations contain 'Amazonas' in their names. The Amazon represents over half of the planet's remaining rainforests, and comprises the largest and most biodiverse tract of tropical rainforest in the world, with an estimated 390 billion individual trees divided into 16,000 species.\"\n",
    "encoding = tokenizer(question, text, return_tensors='pt')\n",
    "input_ids = encoding['input_ids']\n",
    "attention_mask = encoding['attention_mask']\n",
    "\n",
    "start_scores, end_scores = model(input_ids, attention_mask=attention_mask, output_attentions=False)[:2]\n",
    "\n",
    "all_tokens = tokenizer.convert_ids_to_tokens(input_ids[0])\n",
    "answer = ' '.join(all_tokens[torch.argmax(start_scores) : torch.argmax(end_scores)+1])\n",
    "answer = tokenizer.convert_tokens_to_ids(answer.split())\n",
    "answer = tokenizer.decode(answer)\n",
    "print(answer)"
   ]
  },
  {
   "cell_type": "code",
   "execution_count": null,
   "metadata": {},
   "outputs": [
    {
     "name": "stdout",
     "output_type": "stream",
     "text": [
      "San Francisco\n"
     ]
    }
   ],
   "source": [
    "from transformers import AutoTokenizer, AutoModelForQuestionAnswering\n",
    "\n",
    "tokenizer = AutoTokenizer.from_pretrained(\"Primer/bart-squad2\")\n",
    "model = AutoModelForQuestionAnswering.from_pretrained(\"Primer/bart-squad2\")\n",
    "# model.to('cuda'); \n",
    "model.eval()\n",
    "\n",
    "def answer(question, text):\n",
    "    seq = '<s>' +  question + ' </s> </s> ' + text + ' </s>'\n",
    "    tokens = tokenizer.encode_plus(seq, return_tensors='pt', padding='max_length', max_length=1024)\n",
    "    input_ids = tokens['input_ids']\n",
    "    attention_mask = tokens['attention_mask']\n",
    "    start, end= model(input_ids, attention_mask=attention_mask)[:2]\n",
    "    start_idx = int(start.argmax().int())\n",
    "    end_idx =  int(end.argmax().int())\n",
    "    print(tokenizer.decode(input_ids[0, start_idx:end_idx]).strip())\n",
    "    # ^^ it will be an empty string if the model decided \"unanswerable\"\n",
    "\n",
    "question = \"Where does Tom live?\"\n",
    "context = \"Tom is an engineer in San Francisco.\"\n",
    "answer(question, context)"
   ]
  },
  {
   "cell_type": "code",
   "execution_count": null,
   "metadata": {},
   "outputs": [
    {
     "name": "stdout",
     "output_type": "stream",
     "text": [
      "Amazonia or the Amazon Jungle\n"
     ]
    }
   ],
   "source": [
    "question, text = \"Which name is also used to describe the Amazon rainforest in English?\", \"The Amazon rainforest (Portuguese: Floresta Amazônica or Amazônia; Spanish: Selva Amazónica, Amazonía or usually Amazonia; French: Forêt amazonienne; Dutch: Amazoneregenwoud), also known in English as Amazonia or the Amazon Jungle, is a moist broadleaf forest that covers most of the Amazon basin of South America. This basin encompasses 7,000,000 square kilometres (2,700,000 sq mi), of which 5,500,000 square kilometres (2,100,000 sq mi) are covered by the rainforest. This region includes territory belonging to nine nations. The majority of the forest is contained within Brazil, with 60% of the rainforest, followed by Peru with 13%, Colombia with 10%, and with minor amounts in Venezuela, Ecuador, Bolivia, Guyana, Suriname and French Guiana. States or departments in four nations contain 'Amazonas' in their names. The Amazon represents over half of the planet's remaining rainforests, and comprises the largest and most biodiverse tract of tropical rainforest in the world, with an estimated 390 billion individual trees divided into 16,000 species.\"\n",
    "answer(question, text)"
   ]
  },
  {
   "cell_type": "code",
   "execution_count": null,
   "metadata": {},
   "outputs": [
    {
     "name": "stdout",
     "output_type": "stream",
     "text": [
      "San Francisco\n"
     ]
    }
   ],
   "source": [
    "question = \"Where does Tom live?\"\n",
    "context = \"Tom is an engineer in San Francisco.\"\n",
    "answer(question, context)"
   ]
  },
  {
   "cell_type": "markdown",
   "metadata": {},
   "source": [
    "## Machine translation\n",
    "\n",
    "At first glance, one may ask: isn’t this just a part of “sequence generation” task? and yes it is but this specific task takes a slightly different approach.\n",
    "Instead of finetuning the BART model itself to the current downstream task(machine translation), it uses a pretrained BART model as a submodel, where another small encoder is attached to the BART encoder.\n",
    "This configuration is to show that a pretrained BART model itself as a whole can be utilized by adding the small front encoder for machine translation task on a new language.\n",
    "The existing BART’s first encoder’s embedding layer is replaced to a randomly initialized encoder, and then the entire model is trained end-to-end. This new encoder can use a separate vocabulary from the pretrained one.\n",
    "When fine tuning in this configuration, the training is split to two phases. The first phase will only train parameters of the new encoder, BART positional embeddings, and self-attention input projection matrix of BART’s first encoder layer. On the second phase, all model parameters are updated."
   ]
  },
  {
   "cell_type": "markdown",
   "metadata": {},
   "source": [
    "# Conclusion and Future Direction\n",
    "\n",
    "Write what you have learnt in this project. In particular, write few sentences about the results and their limitations, how they can be extended in future. Make sure your own inference/learnings are depicted here."
   ]
  },
  {
   "cell_type": "markdown",
   "metadata": {},
   "source": [
    "# References:\n",
    "\n",
    "[1]:  Devlin, J., Chang, M., Lee, K., & Toutanova, K. (2019). BERT: Pre-training of Deep Bidirectional Transformers for Language Understanding. ArXiv, abs/1810.04805.\n",
    "\n",
    "[2]:  Liu, Yinhan et al. “RoBERTa: A Robustly Optimized BERT Pretraining Approach.” ArXiv abs/1907.11692 (2019): n. pag.\n",
    "\n",
    "[3]:  Yang, Zhilin et al. “XLNet: Generalized Autoregressive Pretraining for Language Understanding.” NeurIPS (2019).\n",
    "\n",
    "[4]: Lewis, M., Liu, Y., Goyal, N., Ghazvininejad, M., Mohamed, A., Levy, O., Stoyanov, V., & Zettlemoyer, L. (2020). BART: Denoising Sequence-to-Sequence Pre-training for Natural Language Generation, Translation, and Comprehension. ArXiv, abs/1910.13461.\n",
    "\n",
    "[5]:  Jacob Devlin, Ming-Wei Chang, Kenton Lee, and Kristina Toutanova. BERT: Pre-training of deep bidirectional transformers for language understanding. In Proceedings of the 2019 Conference of the North American Chapter of the Association for Computational Linguistics: Human Language Technologies, Volume 1 (Long and Short Papers), pp. 4171–\n",
    "4186, Minneapolis, Minnesota, June 2019. Association for Computational Linguistics. doi: 10.18653/v1/N19-1423. URL https://www.aclweb.org/anthology/N19-1423.\n",
    "\n",
    "[6]:  L. Dong, N. Yang, W. Wang, F. Wei, X. Liu, Y. Wang, J. Gao, M. Zhou, and H. Hon (2019) Unified language model pre-training for natural language understanding and generation. arXiv preprint arXiv:1905.03197. "
   ]
  },
  {
   "cell_type": "code",
   "execution_count": null,
   "metadata": {},
   "outputs": [],
   "source": []
  }
 ],
 "metadata": {
  "kernelspec": {
   "display_name": "Python 3 (ipykernel)",
   "language": "python",
   "name": "python3"
  },
  "language_info": {
   "codemirror_mode": {
    "name": "ipython",
    "version": 3
   },
   "file_extension": ".py",
   "mimetype": "text/x-python",
   "name": "python",
   "nbconvert_exporter": "python",
   "pygments_lexer": "ipython3",
   "version": "3.9.6"
  }
 },
 "nbformat": 4,
 "nbformat_minor": 2
}
